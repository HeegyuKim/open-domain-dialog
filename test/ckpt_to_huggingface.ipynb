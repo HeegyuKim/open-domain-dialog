{
 "cells": [
  {
   "cell_type": "code",
   "execution_count": 1,
   "metadata": {},
   "outputs": [
    {
     "name": "stdout",
     "output_type": "stream",
     "text": [
      "c:\\Users\\heegyukim\\Desktop\\project\\open-domain-dialog\n"
     ]
    }
   ],
   "source": [
    "%load_ext autoreload\n",
    "%autoreload 2\n",
    "%cd .."
   ]
  },
  {
   "cell_type": "code",
   "execution_count": 2,
   "metadata": {},
   "outputs": [],
   "source": [
    "from odd.gpt.gpt import GPTTask"
   ]
  },
  {
   "cell_type": "code",
   "execution_count": null,
   "metadata": {},
   "outputs": [],
   "source": [
    "task = GPTTask.load_from_checkpoint(\"checkpoint/open-domain-dialog/kodialogpt-base-v1/1epoch.ckpt\")\n",
    "task"
   ]
  },
  {
   "cell_type": "code",
   "execution_count": 14,
   "metadata": {},
   "outputs": [
    {
     "name": "stdout",
     "output_type": "stream",
     "text": [
      "ᄒᄒ\n",
      "0 : 안녕하세요!!\n",
      "1 : 게임 좋아하시나요?\n",
      "0 : 네 좋아해요! name2님은요?\n",
      "1 : 저는 주로 롤에 관심이 생겨서 하고 있어요...\n",
      "0 : 어떤겜 주로 하시나요?\n",
      "1 : 폰게임하고... 폰게임을 제일 좋아합니다ᄒᄒ 롤도 가끔 해요ᄒᄒ\n",
      "0 : ᄏᄏᄏᄏᄏ 모바일에서 하는 게임은 어떤 게임이죠??\n",
      "\n"
     ]
    }
   ],
   "source": [
    "print(task.generate([\"0 : 안녕하세요\\n1 : \"], top_p=0.72, do_sample=True, max_new_tokens=96, repetition_penalty=1.2)[0])"
   ]
  },
  {
   "cell_type": "code",
   "execution_count": 15,
   "metadata": {},
   "outputs": [
    {
     "data": {
      "text/plain": [
       "('huggingface/kodialogpt-v1/tokenizer_config.json',\n",
       " 'huggingface/kodialogpt-v1/special_tokens_map.json',\n",
       " 'huggingface/kodialogpt-v1/vocab.json',\n",
       " 'huggingface/kodialogpt-v1/merges.txt',\n",
       " 'huggingface/kodialogpt-v1/added_tokens.json',\n",
       " 'huggingface/kodialogpt-v1/tokenizer.json')"
      ]
     },
     "execution_count": 15,
     "metadata": {},
     "output_type": "execute_result"
    }
   ],
   "source": [
    "task.model.save_pretrained(\"huggingface/kodialogpt-v1/\")\n",
    "task.tokenizer.save_pretrained(\"huggingface/kodialogpt-v1/\")"
   ]
  },
  {
   "cell_type": "code",
   "execution_count": 17,
   "metadata": {},
   "outputs": [],
   "source": [
    "from transformers import AutoTokenizer, AutoModelForCausalLM, pipeline"
   ]
  },
  {
   "cell_type": "code",
   "execution_count": 18,
   "metadata": {},
   "outputs": [
    {
     "name": "stderr",
     "output_type": "stream",
     "text": [
      "Downloading: 100%|██████████| 241/241 [00:00<00:00, 236kB/s]\n",
      "Downloading: 100%|██████████| 870k/870k [00:02<00:00, 436kB/s]  \n",
      "Downloading: 100%|██████████| 484k/484k [00:01<00:00, 435kB/s]  \n",
      "Downloading: 100%|██████████| 2.14M/2.14M [00:03<00:00, 641kB/s] \n",
      "Downloading: 100%|██████████| 29.0/29.0 [00:00<00:00, 28.9kB/s]\n",
      "Downloading: 100%|██████████| 104/104 [00:00<00:00, 103kB/s]\n",
      "Downloading: 100%|██████████| 1.15k/1.15k [00:00<00:00, 1.18MB/s]\n",
      "Downloading: 100%|██████████| 490M/490M [00:45<00:00, 11.2MB/s]  \n"
     ]
    },
    {
     "data": {
      "text/plain": [
       "[[{'generated_text': '0 : **는 게임 좋아하니\\n1 : 응 나는 좋아해\\n'}],\n",
       " [{'generated_text': '0 : 어제 강남에서 살인사건 났대 ㅜㅜ 너무 무서워\\n1 : 헐 왜? 무슨 일 있었어?\\n0 : 사진보니까 막 피흘리는 사람있고 경찰들이 떠서 제압하고 난리도 아니었다던데??\\n1 : 그게 무슨 일이야 진짜... 어떡해...\\n0 : 그러니까 말이야  \\n1 : 근데 뭐 그런 사건까지 일어난 거야?\\n0 : 아니 그냥 지나가다가 발견했다고 하더라 키키\\n'}],\n",
       " [{'generated_text': '0 : 자기야 어제는 나한테 왜 그랬어?\\n1 : 뭔 일 있었어?\\n0 : 어떻게 나한테 말도 없이 그럴 수 있어? 나 진짜 실망했어\\n1 : 뭘 잘못한 거야?\\n0 : 아니~ 그냥 내가 착각하고 있었나봐\\n'}]]"
      ]
     },
     "execution_count": 18,
     "metadata": {},
     "output_type": "execute_result"
    }
   ],
   "source": [
    "tokenizer = AutoTokenizer.from_pretrained(\"heegyu/kodialogpt-v1\")\n",
    "model = AutoModelForCausalLM.from_pretrained(\"heegyu/kodialogpt-v1\")\n",
    "generator = pipeline(\"text-generation\", model=model, tokenizer=tokenizer)\n",
    "generation_args = dict(\n",
    "    num_beams=4,\n",
    "    repetition_penalty=2.0,\n",
    "    no_repeat_ngram_size=4,\n",
    "    eos_token_id=375, # \\n\n",
    "    max_new_tokens=64,\n",
    "    do_sample=True,\n",
    "    top_k=50,\n",
    "    early_stopping=True\n",
    ")\n",
    "generator(\n",
    "    [\"0 : **는 게임 좋아하니\\n1 :\",\n",
    "    \"0 : 어제 강남에서 살인사건 났대 ㅜㅜ 너무 무서워\\n1 : 헐 왜? 무슨 일 있었어?\\n0 : 사진보니까 막 피흘리는 사람있고 경찰들이 떠서 제압하고 난리도 아니었다던데??\\n1 :\",\n",
    "    \"0 : 자기야 어제는 나한테 왜 그랬어?\\n1 : 뭔 일 있었어?\\n0 : 어떻게 나한테 말도 없이 그럴 수 있어? 나 진짜 실망했어\\n1 : \"],\n",
    "    **generation_args\n",
    ")"
   ]
  }
 ],
 "metadata": {
  "kernelspec": {
   "display_name": "Python 3.9.7 ('base')",
   "language": "python",
   "name": "python3"
  },
  "language_info": {
   "codemirror_mode": {
    "name": "ipython",
    "version": 3
   },
   "file_extension": ".py",
   "mimetype": "text/x-python",
   "name": "python",
   "nbconvert_exporter": "python",
   "pygments_lexer": "ipython3",
   "version": "3.9.7"
  },
  "orig_nbformat": 4,
  "vscode": {
   "interpreter": {
    "hash": "b09ec625f77bf4fd762565a912b97636504ad6ec901eb2d0f4cf5a7de23e1ee5"
   }
  }
 },
 "nbformat": 4,
 "nbformat_minor": 2
}
