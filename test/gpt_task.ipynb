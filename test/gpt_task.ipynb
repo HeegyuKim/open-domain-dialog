{
 "cells": [
  {
   "cell_type": "code",
   "execution_count": 1,
   "metadata": {},
   "outputs": [
    {
     "name": "stdout",
     "output_type": "stream",
     "text": [
      "/home/ubuntu/open-domain-dialog\n"
     ]
    }
   ],
   "source": [
    "%load_ext autoreload\n",
    "%autoreload 2\n",
    "%cd .."
   ]
  },
  {
   "cell_type": "code",
   "execution_count": 4,
   "metadata": {},
   "outputs": [],
   "source": [
    "from odd.gpt import utils\n",
    "from odd.gpt.gpt import GPTTask\n",
    "from transformers import AutoTokenizer"
   ]
  },
  {
   "cell_type": "code",
   "execution_count": 5,
   "metadata": {},
   "outputs": [
    {
     "name": "stderr",
     "output_type": "stream",
     "text": [
      "Special tokens have been added in the vocabulary, make sure the associated word embeddings are fine-tuned or trained.\n"
     ]
    }
   ],
   "source": [
    "gpt = GPTTask.load_from_checkpoint(\"checkpoint/open-domain-dialog-gpt2-dialog-v9.ckpt\")"
   ]
  },
  {
   "cell_type": "code",
   "execution_count": 44,
   "metadata": {},
   "outputs": [
    {
     "name": "stdout",
     "output_type": "stream",
     "text": [
      "[[7162, 15403, 12011, 19202, 739, 1, 9020, 9223], [12011, 19202, 739, 1, 9020, 9223, 12102, 739]]\n",
      "[[7162, 15403, 12011, 19202, 739, 1, 9020, 9223], [12011, 19202, 739, 1, 9020, 9223, 12102, 739]]\n"
     ]
    },
    {
     "data": {
      "text/plain": [
       "['는 게임 좋아하니  1 : 뭐???????????????',\n",
       " '좋아하니  1 : 나는 뭘 먹어야지~~~~~~~~~~~~~~~~~~~~~~~~~~~~~']"
      ]
     },
     "execution_count": 44,
     "metadata": {},
     "output_type": "execute_result"
    }
   ],
   "source": [
    "gpt.generate(\n",
    "    [\"0 : **는 게임 좋아하니 </s> 1 :\",\n",
    "    \"0 : **는 게임 좋아하니 </s> 1 : 나는 \"],\n",
    "    max_new_tokens=32,\n",
    "    min_new_tokens=16,\n",
    "    max_prompt_length=8,\n",
    "    return_with_prompt=True\n",
    ")"
   ]
  },
  {
   "cell_type": "code",
   "execution_count": 41,
   "metadata": {},
   "outputs": [
    {
     "data": {
      "text/plain": [
       "'ld'"
      ]
     },
     "execution_count": 41,
     "metadata": {},
     "output_type": "execute_result"
    }
   ],
   "source": [
    "text = \"hello world\"\n",
    "text[-2:]"
   ]
  },
  {
   "cell_type": "code",
   "execution_count": 15,
   "metadata": {},
   "outputs": [
    {
     "name": "stderr",
     "output_type": "stream",
     "text": [
      "/home/ubuntu/.local/lib/python3.9/site-packages/pytorch_lightning/core/lightning.py:374: UserWarning: You are trying to `self.log()` but the `self.trainer` reference is not registered on the model yet. This is most likely because the model hasn't been passed to the `Trainer`\n",
      "  rank_zero_warn(\n"
     ]
    },
    {
     "data": {
      "text/plain": [
       "tensor(3.8556, grad_fn=<NllLossBackward0>)"
      ]
     },
     "execution_count": 15,
     "metadata": {},
     "output_type": "execute_result"
    }
   ],
   "source": [
    "gpt.training_step(\n",
    "    {\n",
    "        \"speakers\": [[0,1,2,3,4,5]],\n",
    "        \"utterances\": [[\"ㅎㅇ\",\"ㅂㅇㅂㅇ\",\"ㅎㅇㅎㅇ?\", \"ㅂㅇ\", \"ㅎㅇㅎㅇ\", \"ㅋㅋㅋ\"]]\n",
    "    },\n",
    "    0\n",
    ")"
   ]
  }
 ],
 "metadata": {
  "kernelspec": {
   "display_name": "Python 3.9.13 ('base')",
   "language": "python",
   "name": "python3"
  },
  "language_info": {
   "codemirror_mode": {
    "name": "ipython",
    "version": 3
   },
   "file_extension": ".py",
   "mimetype": "text/x-python",
   "name": "python",
   "nbconvert_exporter": "python",
   "pygments_lexer": "ipython3",
   "version": "3.9.13"
  },
  "orig_nbformat": 4,
  "vscode": {
   "interpreter": {
    "hash": "d4d1e4263499bec80672ea0156c357c1ee493ec2b1c70f0acce89fc37c4a6abe"
   }
  }
 },
 "nbformat": 4,
 "nbformat_minor": 2
}
