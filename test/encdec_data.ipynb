{
 "cells": [
  {
   "cell_type": "code",
   "execution_count": 1,
   "metadata": {},
   "outputs": [
    {
     "name": "stdout",
     "output_type": "stream",
     "text": [
      "/home/ubuntu/open-domain-dialog\n"
     ]
    }
   ],
   "source": [
    "%load_ext autoreload\n",
    "%autoreload 2\n",
    "%cd .."
   ]
  },
  {
   "cell_type": "code",
   "execution_count": 3,
   "metadata": {},
   "outputs": [],
   "source": [
    "from odd.encdec.utils import prepare_batch\n",
    "from transformers import AutoTokenizer"
   ]
  },
  {
   "cell_type": "code",
   "execution_count": 4,
   "metadata": {},
   "outputs": [],
   "source": [
    "tokenizer = AutoTokenizer.from_pretrained(\"paust/pko-t5-small\")"
   ]
  },
  {
   "cell_type": "code",
   "execution_count": 5,
   "metadata": {},
   "outputs": [],
   "source": [
    "tokenizer.bos_token_id = tokenizer.eos_token_id"
   ]
  },
  {
   "cell_type": "code",
   "execution_count": 16,
   "metadata": {},
   "outputs": [
    {
     "name": "stdout",
     "output_type": "stream",
     "text": [
      "{'attention_mask': tensor([[1, 1, 1, 1, 1, 1, 1, 1],\n",
      "        [1, 1, 1, 1, 0, 0, 0, 0]], dtype=torch.int32),\n",
      " 'decoder_attention_mask': tensor([[1, 1, 1, 1, 1, 1, 1, 0, 0, 0, 0, 0, 0, 0, 0, 0, 0, 0, 0, 0, 0, 0, 0, 0,\n",
      "         0, 0, 0, 0, 0, 0, 0, 0],\n",
      "        [1, 1, 1, 1, 1, 1, 1, 1, 1, 1, 1, 1, 1, 1, 1, 1, 1, 1, 1, 1, 1, 1, 1, 1,\n",
      "         1, 1, 1, 1, 0, 0, 0, 0]], dtype=torch.int32),\n",
      " 'decoder_input_ids': tensor([[    1,    18,    27,   222,  1381,   963,     1,     0,     0,     0,\n",
      "             0,     0,     0,     0,     0,     0,     0,     0,     0,     0,\n",
      "             0,     0,     0,     0,     0,     0,     0,     0,     0,     0,\n",
      "             0,     0],\n",
      "        [    1,  4349,  2129,   222,  5408,   706,   222,  1203,   222,  2719,\n",
      "           296,    95,   222,  5408,   706,   222,  5408,   445,   222,  5408,\n",
      "         27563,    32,   222,  1198,   278,    32,   222,     1,     0,     0,\n",
      "             0,     0]]),\n",
      " 'input_ids': tensor([[  17,   27,  222, 1381,  281,  855,   32,  222],\n",
      "        [  18,   27,  222, 8222,    0,    0,    0,    0]]),\n",
      " 'labels': tensor([[   18,    27,   222,  1381,   963,     1,  -100,  -100,  -100,  -100,\n",
      "          -100,  -100,  -100,  -100,  -100,  -100,  -100,  -100,  -100,  -100,\n",
      "          -100,  -100,  -100,  -100,  -100,  -100,  -100,  -100,  -100,  -100,\n",
      "          -100,  -100],\n",
      "        [ 4349,  2129,   222,  5408,   706,   222,  1203,   222,  2719,   296,\n",
      "            95,   222,  5408,   706,   222,  5408,   445,   222,  5408, 27563,\n",
      "            32,   222,  1198,   278,    32,   222,     1,  -100,  -100,  -100,\n",
      "          -100,  -100]])}\n",
      "['0: 안녕하쇼? ', '1: 반갑습니다<pad><pad><pad><pad>']\n",
      "['</s>1: 안녕하세요</s><pad><pad><pad><pad><pad><pad><pad><pad><pad><pad><pad><pad><pad><pad><pad><pad><pad><pad><pad><pad><pad><pad><pad><pad><pad>', '</s>숙박앱 오류라고 전화 왔어요~ 오류라고 오류래 오류라니까? 그렇가? </s><pad><pad><pad><pad>']\n",
      "torch.Size([2, 32])\n",
      "['1: 안녕하세요</s><pad><pad><pad><pad><pad><pad><pad><pad><pad><pad><pad><pad><pad><pad><pad><pad><pad><pad><pad><pad><pad><pad><pad><pad><pad><pad>', '숙박앱 오류라고 전화 왔어요~ 오류라고 오류래 오류라니까? 그렇가? </s><pad><pad><pad><pad><pad>']\n"
     ]
    }
   ],
   "source": [
    "from pprint import pprint\n",
    "\n",
    "\n",
    "batch = prepare_batch(\n",
    "    tokenizer,\n",
    "    [\"0: 안녕하쇼? ㅋㅋㅋ 오늘 뭐함\", \"1: 반갑습니다\"],\n",
    "    [\"1: 안녕하세요\", \"숙박앱 오류라고 전화 왔어요~ 오류라고 오류래 오류라니까? 그렇가? \"],\n",
    "    8,\n",
    "    32,\n",
    "    \"cpu\"\n",
    ")\n",
    "\n",
    "pprint(batch)\n",
    "print(tokenizer.batch_decode(batch[\"input_ids\"]))\n",
    "print(tokenizer.batch_decode(batch[\"decoder_input_ids\"]))\n",
    "print(batch[\"labels\"].shape)\n",
    "print(tokenizer.batch_decode(batch[\"labels\"].masked_fill(batch[\"labels\"] == -100, 0)))"
   ]
  }
 ],
 "metadata": {
  "kernelspec": {
   "display_name": "Python 3.9.13 ('base')",
   "language": "python",
   "name": "python3"
  },
  "language_info": {
   "codemirror_mode": {
    "name": "ipython",
    "version": 3
   },
   "file_extension": ".py",
   "mimetype": "text/x-python",
   "name": "python",
   "nbconvert_exporter": "python",
   "pygments_lexer": "ipython3",
   "version": "3.9.13"
  },
  "orig_nbformat": 4,
  "vscode": {
   "interpreter": {
    "hash": "d4d1e4263499bec80672ea0156c357c1ee493ec2b1c70f0acce89fc37c4a6abe"
   }
  }
 },
 "nbformat": 4,
 "nbformat_minor": 2
}
